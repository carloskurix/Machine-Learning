{
  "nbformat": 4,
  "nbformat_minor": 0,
  "metadata": {
    "colab": {
      "provenance": []
    },
    "kernelspec": {
      "name": "python3",
      "display_name": "Python 3"
    },
    "language_info": {
      "name": "python"
    }
  },
  "cells": [
    {
      "cell_type": "markdown",
      "source": [
        "<a target=\"_blank\" href=\"https://colab.research.google.com/github/carloskurix/Machine-Learning/blob/main/kuri/ML1.ipynb\">\n",
        "  <img src=\"https://colab.research.google.com/assets/colab-badge.svg\" alt=\"Open In Colab\"/>\n",
        "</a>"
      ],
      "metadata": {
        "id": "SVyvYLBYI4Zj"
      }
    },
    {
      "cell_type": "markdown",
      "source": [
        "<a target=\"_blank\" href=\"https://colab.research.google.com/github/carloskurix/Machine-Learning/blob/main/kuri/ML1.ipynb\">\n",
        "  <img src=\"https://colab.research.google.com/assets/colab-badge.svg\" alt=\"Open In Colab\"/>\n",
        "</a>"
      ],
      "metadata": {
        "id": "DZOuMTvKRIpB"
      }
    },
    {
      "cell_type": "markdown",
      "source": [
        "#Aprendizaje automático:\n",
        "##media, mediana y moda\n",
        "\n",
        "**¿Qué podemos aprender al observar un grupo de números?**\n",
        "\n",
        "En Machine Learning (y en matemáticas) a menudo hay tres valores que nos interesan:\n",
        "\n",
        "**Media** - El valor promedio\n",
        "\n",
        "**Mediana** : El valor del punto medio\n",
        "\n",
        "**Moda** - El valor más común  \n",
        "*\n",
        "\n",
        "Ejemplo: Hemos registrado la velocidad de 13 coches:  \n",
        "\n",
        "speed = [99,86,87,88,111,86,103,87,94,78,77,85,86]\n",
        "\n",
        "*\n",
        "\n",
        "**¿Cuál es el valor de velocidad promedio, media o más común?**\n",
        "\n",
        "**media**\n",
        "\n",
        "El valor media es el valor promedio.\n",
        "\n",
        "Para calcular la media, encuentra la suma de todos los valores y divide la suma por el número de valores:\n",
        "\n",
        "(99+86+87+88+111+86+103+87+94+78+77+85+86) / 13 = 89.77\n",
        "\n",
        "*\n",
        "\n",
        "El módulo NumPy tiene un método para esto."
      ],
      "metadata": {
        "id": "MyaUL65Pf9SR"
      }
    },
    {
      "cell_type": "code",
      "source": [
        "import numpy\n",
        "\n",
        "speed = [99,86,87,88,111,86,103,87,94,78,77,85,86]\n",
        "\n",
        "x = numpy.mean(speed)\n",
        "\n",
        "print(x)"
      ],
      "metadata": {
        "id": "K6x-APdtgd7P",
        "colab": {
          "base_uri": "https://localhost:8080/"
        },
        "outputId": "4360fd17-a197-4e11-b629-dc50f24b8e49"
      },
      "execution_count": null,
      "outputs": [
        {
          "output_type": "stream",
          "name": "stdout",
          "text": [
            "89.76923076923077\n"
          ]
        }
      ]
    },
    {
      "cell_type": "markdown",
      "source": [
        "**Mediana.**\n",
        "\n",
        "El valor mediano es el valor que está en el medio, después de haber ordenado todos los valores:\n",
        "\n",
        "77, 78, 85, 86, 86, 86, 87, 87, 88, 94, 99, 103, 111\n",
        "\n",
        "*\n",
        "\n",
        "Es importante que los números estén ordenados antes de poder encontrar la mediana.\n",
        "\n",
        "\n",
        "El módulo NumPy tiene un método para esto:\n"
      ],
      "metadata": {
        "id": "3Wku5e1hmX9d"
      }
    },
    {
      "cell_type": "code",
      "source": [
        "import numpy\n",
        "\n",
        "speed = [99,86,87,88,111,86,103,87,94,78,77,85,86]\n",
        "\n",
        "x = numpy.median(speed)\n",
        "\n",
        "print(x)"
      ],
      "metadata": {
        "id": "GBYtR4_DnAXU",
        "colab": {
          "base_uri": "https://localhost:8080/"
        },
        "outputId": "fd22dff2-4c0e-4e86-bdd3-2d174a712f1d"
      },
      "execution_count": null,
      "outputs": [
        {
          "output_type": "stream",
          "name": "stdout",
          "text": [
            "87.0\n"
          ]
        }
      ]
    },
    {
      "cell_type": "markdown",
      "source": [
        "Si hay dos números en el medio, divide la suma de esos números por dos.\n",
        "\n",
        "77, 78, 85, 86, 86, 86, 87, 87, 94, 98, 99, 103\n",
        "\n",
        "(86 + 87) / 2 = 86.5"
      ],
      "metadata": {
        "id": "Rkfxl4QPnI1f"
      }
    },
    {
      "cell_type": "code",
      "source": [
        "import numpy\n",
        "\n",
        "speed = [99,86,87,88,86,103,87,94,78,77,85,86]\n",
        "\n",
        "x = numpy.median(speed)\n",
        "\n",
        "print(x)"
      ],
      "metadata": {
        "id": "mHCt12eunPA-",
        "colab": {
          "base_uri": "https://localhost:8080/"
        },
        "outputId": "24449046-791a-4a5f-ea5b-d988b753754c"
      },
      "execution_count": null,
      "outputs": [
        {
          "output_type": "stream",
          "name": "stdout",
          "text": [
            "86.5\n"
          ]
        }
      ]
    },
    {
      "cell_type": "markdown",
      "source": [
        "**Moda**\n",
        "\n",
        "El valor de Moda es el valor que aparece más veces:\n",
        "\n",
        "99, 86, 87, 88, 111, 86, 103, 87, 94, 78, 77, 85, 86 = 86  \n",
        "*\n",
        "\n",
        "El módulo SciPy tiene un método para esto."
      ],
      "metadata": {
        "id": "G22ucjNhngR9"
      }
    },
    {
      "cell_type": "code",
      "source": [
        "from scipy import stats\n",
        "\n",
        "speed = [99,86,87,88,111,86,103,87,94,78,77,85,86]\n",
        "\n",
        "x = stats.mode(speed)\n",
        "\n",
        "print(x)"
      ],
      "metadata": {
        "id": "ciKsC4zpnlMF",
        "colab": {
          "base_uri": "https://localhost:8080/"
        },
        "outputId": "bd238847-24a1-4967-8739-feb90d972bdd"
      },
      "execution_count": null,
      "outputs": [
        {
          "output_type": "stream",
          "name": "stdout",
          "text": [
            "ModeResult(mode=np.int64(86), count=np.int64(3))\n"
          ]
        }
      ]
    },
    {
      "cell_type": "markdown",
      "source": [
        "#Resumen del capítulo\n",
        "La **media, la mediana y la moda** son técnicas que se utilizan a menudo en el aprendizaje automático, por lo que es importante comprender el concepto detrás de ellas."
      ],
      "metadata": {
        "id": "HhBxC936oS7r"
      }
    }
  ]
}